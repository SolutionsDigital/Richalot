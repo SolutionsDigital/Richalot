{
 "cells": [
  {
   "cell_type": "code",
   "execution_count": 1,
   "metadata": {},
   "outputs": [],
   "source": [
    "import random"
   ]
  },
  {
   "cell_type": "code",
   "execution_count": 2,
   "metadata": {},
   "outputs": [],
   "source": [
    "# the roll_die() function takes a list and a die index as its parameter and returns list in which \n",
    "# a ramdom value for the die passed as a parametre has been substituted\n",
    "# ex. \n",
    "# dice = [1,1,1]\n",
    "# roll_die(dice, 1) <-- rolling the first die of the dice list (see management of 0 index in input() function)\n",
    "# dice = [2,1,1]\n",
    "\n",
    "def roll_die(l,x):\n",
    "    l[x]=random.randint(1,6)\n",
    "    \n",
    "    return l\n",
    "\n",
    "def print_scores(pl,cl):\n",
    "    print(pl)\n",
    "    print(sum(pl))\n",
    "    \n",
    "    print(cl)\n",
    "    print(sum(cl))\n",
    "    \n"
   ]
  },
  {
   "cell_type": "code",
   "execution_count": 6,
   "metadata": {},
   "outputs": [
    {
     "name": "stdout",
     "output_type": "stream",
     "text": [
      "[4, 2, 5]\n",
      "11\n",
      "[4, 5, 2]\n",
      "11\n"
     ]
    }
   ],
   "source": [
    "# dice are part of an array and can be access by their index value, which is an int.\n",
    "# the dice have to exist before you can play so the array has to be instantiated\n",
    "# the array is instantiated with the first roll\n",
    "\n",
    "playerDice = [random.randint(1,6),random.randint(1,6),random.randint(1,6)]\n",
    "computerDice = [random.randint(1,6),random.randint(1,6),random.randint(1,6)]\n",
    "\n",
    "print_scores(playerDice, computerDice)"
   ]
  },
  {
   "cell_type": "code",
   "execution_count": 7,
   "metadata": {},
   "outputs": [
    {
     "name": "stdout",
     "output_type": "stream",
     "text": [
      "GAME ON\n",
      "Would you like to roll a die? y/nn\n",
      "Player happy with their total and not rolling any die\n",
      "Computer happy with its total and not rolling any die\n",
      "ROUND 1 SCORES\n",
      "[4, 2, 5]\n",
      "11\n",
      "[4, 5, 2]\n",
      "11\n",
      "Would you like to roll a die? y/nn\n",
      "Player happy with their total and not rolling any die\n",
      "Computer happy with its total and not rolling any die\n",
      "ROUND 2 SCORES\n",
      "[4, 2, 5]\n",
      "11\n",
      "[4, 5, 2]\n",
      "11\n"
     ]
    }
   ],
   "source": [
    "# a round will only take place if none of the two players are over 12\n",
    "\n",
    "if sum(computerDice) <= 12 and sum(playerDice) <= 12:\n",
    "    print(\"GAME ON\")\n",
    "    \n",
    "    # the game has two rounds\n",
    "    # for each round both the player and the computer are allowed to roll one die\n",
    "    play_round = 0\n",
    "\n",
    "    # a round starts when either of the players decide to roll a die \n",
    "    while play_round <2:\n",
    "        \n",
    "        want_to_play = input(\"Would you like to roll a die? y/n\")\n",
    "\n",
    "        if want_to_play == \"y\":\n",
    "             # the input is converted to an int as index values of a list have to be integers\n",
    "            # -1 as lists are 0 indexed\n",
    "            play1 = int(input(\"which die would you like to roll?\")) - 1\n",
    "            print_scores(roll_die(playerDice,play1), computerDice)\n",
    "        else:\n",
    "            print(\"Player happy with their total and not rolling any die\")\n",
    "\n",
    "\n",
    "        # the computer only decides to play again if his total is <11 \n",
    "        if sum(computerDice)<11:\n",
    "            print(computerDice)\n",
    "            comp1 = computerDice.index(min(computerDice))\n",
    "            print('Computer rolled die: ' + str(comp1+1))\n",
    "            print_scores(playerDice, roll_die(computerDice,comp1))\n",
    "        else:\n",
    "            print(\"Computer happy with its total and not rolling any die\")\n",
    "\n",
    "        #end of the round\n",
    "        play_round = play_round +1      \n",
    "\n",
    "        #Print round scores\n",
    "        print(\"ROUND \" + str(play_round)+ \" SCORES\")\n",
    "        print_scores(playerDice,computerDice)\n",
    "        \n",
    "else:\n",
    "    print(\"Game over\")"
   ]
  },
  {
   "cell_type": "code",
   "execution_count": 12,
   "metadata": {},
   "outputs": [
    {
     "name": "stdout",
     "output_type": "stream",
     "text": [
      "FINAL SCORES\n",
      "[4, 2, 5]\n",
      "11\n",
      "[4, 5, 2]\n",
      "11\n",
      "IT's A DRAW\n"
     ]
    }
   ],
   "source": [
    "#Get a result\n",
    "\n",
    "print(\"FINAL SCORES\")\n",
    "print_scores(playerDice,computerDice)\n",
    "\n",
    "if sum(playerDice) > sum(computerDice):\n",
    "    print(\"YOU WIN\")\n",
    "elif sum(playerDice) == sum(computerDice):\n",
    "    print(\"IT's A DRAW\")\n",
    "else:\n",
    "    print(\"YOU LOSE\")"
   ]
  },
  {
   "cell_type": "code",
   "execution_count": null,
   "metadata": {},
   "outputs": [],
   "source": []
  }
 ],
 "metadata": {
  "kernelspec": {
   "display_name": "Python 3",
   "language": "python",
   "name": "python3"
  },
  "language_info": {
   "codemirror_mode": {
    "name": "ipython",
    "version": 3
   },
   "file_extension": ".py",
   "mimetype": "text/x-python",
   "name": "python",
   "nbconvert_exporter": "python",
   "pygments_lexer": "ipython3",
   "version": "3.6.5"
  }
 },
 "nbformat": 4,
 "nbformat_minor": 2
}
